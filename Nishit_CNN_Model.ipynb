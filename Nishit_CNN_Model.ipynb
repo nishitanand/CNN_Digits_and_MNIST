{
 "cells": [
  {
   "cell_type": "code",
   "execution_count": 1,
   "metadata": {
    "colab": {
     "base_uri": "https://localhost:8080/"
    },
    "id": "T1AgnT1mWWMP",
    "outputId": "e5e3941c-98c4-4e75-9d43-dbe356f36fe9"
   },
   "outputs": [
    {
     "name": "stdout",
     "output_type": "stream",
     "text": [
      "nvcc: NVIDIA (R) Cuda compiler driver\n",
      "Copyright (c) 2005-2020 NVIDIA Corporation\n",
      "Built on Wed_Jul_22_19:09:09_PDT_2020\n",
      "Cuda compilation tools, release 11.0, V11.0.221\n",
      "Build cuda_11.0_bu.TC445_37.28845127_0\n",
      "Sat Apr 10 17:57:47 2021       \n",
      "+-----------------------------------------------------------------------------+\n",
      "| NVIDIA-SMI 460.67       Driver Version: 460.32.03    CUDA Version: 11.2     |\n",
      "|-------------------------------+----------------------+----------------------+\n",
      "| GPU  Name        Persistence-M| Bus-Id        Disp.A | Volatile Uncorr. ECC |\n",
      "| Fan  Temp  Perf  Pwr:Usage/Cap|         Memory-Usage | GPU-Util  Compute M. |\n",
      "|                               |                      |               MIG M. |\n",
      "|===============================+======================+======================|\n",
      "|   0  Tesla T4            Off  | 00000000:00:04.0 Off |                    0 |\n",
      "| N/A   71C    P0    30W /  70W |      0MiB / 15109MiB |      0%      Default |\n",
      "|                               |                      |                  N/A |\n",
      "+-------------------------------+----------------------+----------------------+\n",
      "                                                                               \n",
      "+-----------------------------------------------------------------------------+\n",
      "| Processes:                                                                  |\n",
      "|  GPU   GI   CI        PID   Type   Process name                  GPU Memory |\n",
      "|        ID   ID                                                   Usage      |\n",
      "|=============================================================================|\n",
      "|  No running processes found                                                 |\n",
      "+-----------------------------------------------------------------------------+\n"
     ]
    }
   ],
   "source": [
    "# To verify CUDA\n",
    "!/usr/local/cuda/bin/nvcc --version\n",
    "# To Print GPU info\n",
    "gpu_info = !nvidia-smi\n",
    "gpu_info = '\\n'.join(gpu_info)\n",
    "if gpu_info.find('failed') >= 0:\n",
    "  print('Select the Runtime > \"Change runtime type\" menu to enable a GPU accelerator, ')\n",
    "  print('and then re-execute this cell.')\n",
    "else:\n",
    "  print(gpu_info)"
   ]
  },
  {
   "cell_type": "code",
   "execution_count": 2,
   "metadata": {
    "id": "58jcVZljUtTw"
   },
   "outputs": [],
   "source": [
    "# Define helper functions\n",
    "def imShow(path):\n",
    "  import cv2\n",
    "  import matplotlib.pyplot as plt\n",
    "  %matplotlib inline\n",
    "\n",
    "  image = cv2.imread(path)\n",
    "  height, width = image.shape[:2]\n",
    "  resized_image = cv2.resize(image,(3*width, 3*height), interpolation = cv2.INTER_CUBIC)\n",
    "\n",
    "  fig = plt.gcf()\n",
    "  fig.set_size_inches(18, 10)\n",
    "  plt.axis(\"off\")\n",
    "  plt.imshow(cv2.cvtColor(resized_image, cv2.COLOR_BGR2RGB))\n",
    "  plt.show()\n",
    "\n",
    "# use this to upload files\n",
    "def upload():\n",
    "  from google.colab import files\n",
    "  uploaded = files.upload() \n",
    "  for name, data in uploaded.items():\n",
    "    with open(name, 'wb') as f:\n",
    "      f.write(data)\n",
    "      print ('saved file', name)\n",
    "\n",
    "# use this to download a file  \n",
    "def download(path):\n",
    "  from google.colab import files\n",
    "  files.download(path)"
   ]
  },
  {
   "cell_type": "code",
   "execution_count": 3,
   "metadata": {
    "colab": {
     "base_uri": "https://localhost:8080/"
    },
    "id": "MypBpTfJUtP6",
    "outputId": "9f80f388-0008-4115-f5e7-6400b44faf1f"
   },
   "outputs": [
    {
     "name": "stdout",
     "output_type": "stream",
     "text": [
      "/\n",
      "Drive already mounted at /content/gdrive; to attempt to forcibly remount, call drive.mount(\"/content/gdrive\", force_remount=True).\n"
     ]
    }
   ],
   "source": [
    "# Mounting Google Drive\n",
    "%cd ..\n",
    "from google.colab import drive\n",
    "drive.mount('/content/gdrive')"
   ]
  },
  {
   "cell_type": "code",
   "execution_count": 4,
   "metadata": {
    "colab": {
     "base_uri": "https://localhost:8080/"
    },
    "id": "E6s_tJlAUtF2",
    "outputId": "3c9c03ce-759b-44c8-9910-f4d46ce4f7bd"
   },
   "outputs": [
    {
     "name": "stdout",
     "output_type": "stream",
     "text": [
      "ln: failed to create symbolic link '/mydrive/My Drive': File exists\n"
     ]
    }
   ],
   "source": [
    "# This creates a symbolic link so that the path /content/gdrive/My\\ Drive/ is equal to /mydrive\n",
    "!ln -s /content/gdrive/My\\ Drive/ /mydrive"
   ]
  },
  {
   "cell_type": "code",
   "execution_count": 6,
   "metadata": {
    "colab": {
     "base_uri": "https://localhost:8080/"
    },
    "id": "LhYlbqK5WWAV",
    "outputId": "8f0daa35-59b2-43a0-9791-99ba3de1393f"
   },
   "outputs": [
    {
     "name": "stdout",
     "output_type": "stream",
     "text": [
      "/content\n"
     ]
    }
   ],
   "source": [
    "%cd content"
   ]
  },
  {
   "cell_type": "code",
   "execution_count": 7,
   "metadata": {
    "colab": {
     "base_uri": "https://localhost:8080/"
    },
    "id": "CkZtBL1wWV-T",
    "outputId": "1501fd7b-0dc6-41f6-fa8d-bd1a340b1172"
   },
   "outputs": [
    {
     "name": "stdout",
     "output_type": "stream",
     "text": [
      "gdrive\tsample_data\n"
     ]
    }
   ],
   "source": [
    "!ls"
   ]
  },
  {
   "cell_type": "code",
   "execution_count": 8,
   "metadata": {
    "colab": {
     "base_uri": "https://localhost:8080/"
    },
    "id": "mfmcc5yTWV6v",
    "outputId": "13a01a17-a82e-4b2d-d51f-4777e3945ad5"
   },
   "outputs": [
    {
     "name": "stdout",
     "output_type": "stream",
     "text": [
      "/content/gdrive\n"
     ]
    }
   ],
   "source": [
    "%cd gdrive"
   ]
  },
  {
   "cell_type": "code",
   "execution_count": 9,
   "metadata": {
    "colab": {
     "base_uri": "https://localhost:8080/"
    },
    "id": "6pYc5cglWV0F",
    "outputId": "23f00d84-8d0a-4707-ed8f-fafb8048db6b"
   },
   "outputs": [
    {
     "name": "stdout",
     "output_type": "stream",
     "text": [
      "/content/gdrive/MyDrive\n"
     ]
    }
   ],
   "source": [
    "%cd MyDrive/"
   ]
  },
  {
   "cell_type": "code",
   "execution_count": 10,
   "metadata": {
    "colab": {
     "base_uri": "https://localhost:8080/"
    },
    "id": "WwKTDSxVYxdP",
    "outputId": "dea09ca4-363e-4f74-b04f-d681822c55a7"
   },
   "outputs": [
    {
     "name": "stdout",
     "output_type": "stream",
     "text": [
      " 14.0.4734.1000_ProfessionalPlus_volume_x86_en-us.iso\n",
      " best_model.hdf5\n",
      "'Colab Notebooks'\n",
      " Deepfake\n",
      " Deepfake_detection_using_deep_learning-master\n",
      " Learning-to-See-Moving-Objects-in-the-Dark-master\n",
      " Models\n",
      "'My Drive'\n",
      " results\n",
      " tensorflow-speech-recognition-challenge\n",
      " test\n",
      " train\n",
      " trainPart1\n",
      " videos\n",
      " yolov4\n"
     ]
    }
   ],
   "source": [
    "!ls"
   ]
  },
  {
   "cell_type": "code",
   "execution_count": 11,
   "metadata": {
    "colab": {
     "base_uri": "https://localhost:8080/"
    },
    "id": "qXYzCPICYxap",
    "outputId": "a0405193-dfb9-4b8a-aff4-c3d2cfcbcc32"
   },
   "outputs": [
    {
     "name": "stdout",
     "output_type": "stream",
     "text": [
      "/content/gdrive/MyDrive/trainPart1\n",
      "best_model.hdf5  train\tval_images\n"
     ]
    }
   ],
   "source": [
    "%cd trainPart1/\n",
    "!ls"
   ]
  },
  {
   "cell_type": "code",
   "execution_count": 12,
   "metadata": {
    "id": "5UQETGDk07a3"
   },
   "outputs": [],
   "source": [
    "from keras.layers import *\n",
    "from keras.models import Sequential"
   ]
  },
  {
   "cell_type": "code",
   "execution_count": 12,
   "metadata": {
    "id": "cDTrlMZFWE0M"
   },
   "outputs": [],
   "source": []
  },
  {
   "cell_type": "code",
   "execution_count": 13,
   "metadata": {
    "id": "skl9nK56WE0O"
   },
   "outputs": [],
   "source": [
    "import os, shutil\n",
    "folders = os.listdir(\"train\")"
   ]
  },
  {
   "cell_type": "code",
   "execution_count": 14,
   "metadata": {
    "id": "gtYcfiBlWE0P"
   },
   "outputs": [],
   "source": [
    "if not os.path.isdir(\"val_images\"):\n",
    "    os.mkdir(\"val_images\")"
   ]
  },
  {
   "cell_type": "code",
   "execution_count": 16,
   "metadata": {
    "id": "9S5J3Fj1WE0Q"
   },
   "outputs": [],
   "source": [
    "SPLIT = 0.9\n",
    "for f in os.listdir(\"train\"):\n",
    "    p = os.path.join(\"val_images\",f) \n",
    "    if not os.path.isdir(p):\n",
    "        os.mkdir(p)\n",
    "    path = \"train/\"+f\n",
    "    imgs = os.listdir(path)\n",
    "    \n",
    "    split_size = int(SPLIT*len(imgs))\n",
    "    files_to_move = imgs[split_size:]\n",
    "    #print(len(files_to_move))\n",
    "    #print(files_to_move)\n",
    "    for img_f in files_to_move:\n",
    "        src = os.path.join(path,img_f)\n",
    "        dest = os.path.join(\"val_images/\"+f,img_f)\n",
    "        shutil.move(src,dest)"
   ]
  },
  {
   "cell_type": "code",
   "execution_count": 17,
   "metadata": {
    "colab": {
     "base_uri": "https://localhost:8080/"
    },
    "id": "g9eSD-juWE0R",
    "outputId": "e7b70878-c1df-46df-97f6-7c9ffa576909"
   },
   "outputs": [
    {
     "name": "stdout",
     "output_type": "stream",
     "text": [
      "Training Data\n",
      "Sample054 16\n",
      "Sample053 16\n",
      "Sample061 16\n",
      "Sample056 16\n",
      "Sample062 16\n",
      "Sample055 16\n",
      "Sample058 16\n",
      "Sample060 16\n",
      "Sample059 16\n",
      "Sample057 16\n",
      "Sample050 16\n",
      "Sample051 16\n",
      "Sample043 16\n",
      "Sample049 16\n",
      "Sample044 16\n",
      "Sample052 16\n",
      "Sample045 16\n",
      "Sample046 16\n",
      "Sample047 16\n",
      "Sample048 16\n",
      "Sample040 16\n",
      "Sample039 16\n",
      "Sample042 16\n",
      "Sample034 16\n",
      "Sample035 16\n",
      "Sample036 16\n",
      "Sample037 16\n",
      "Sample041 16\n",
      "Sample038 16\n",
      "Sample033 16\n",
      "Sample028 16\n",
      "Sample025 16\n",
      "Sample029 16\n",
      "Sample026 16\n",
      "Sample032 16\n",
      "Sample024 16\n",
      "Sample027 16\n",
      "Sample023 16\n",
      "Sample031 16\n",
      "Sample030 16\n",
      "Sample013 16\n",
      "Sample020 16\n",
      "Sample017 16\n",
      "Sample015 16\n",
      "Sample014 16\n",
      "Sample016 16\n",
      "Sample021 16\n",
      "Sample022 16\n",
      "Sample019 16\n",
      "Sample018 16\n",
      "Sample011 16\n",
      "Sample007 16\n",
      "Sample008 16\n",
      "Sample004 16\n",
      "Sample012 16\n",
      "Sample010 16\n",
      "Sample009 16\n",
      "Sample003 16\n",
      "Sample006 16\n",
      "Sample005 16\n",
      "Sample001 16\n",
      "Sample002 16\n",
      "\n",
      " Validation Data\n",
      "Sample054 24\n",
      "Sample053 24\n",
      "Sample061 24\n",
      "Sample056 24\n",
      "Sample062 24\n",
      "Sample055 24\n",
      "Sample058 24\n",
      "Sample060 24\n",
      "Sample059 24\n",
      "Sample057 24\n",
      "Sample050 24\n",
      "Sample051 24\n",
      "Sample043 24\n",
      "Sample049 24\n",
      "Sample044 24\n",
      "Sample052 24\n",
      "Sample045 24\n",
      "Sample046 24\n",
      "Sample047 24\n",
      "Sample048 24\n",
      "Sample040 24\n",
      "Sample039 24\n",
      "Sample042 24\n",
      "Sample034 24\n",
      "Sample035 24\n",
      "Sample036 24\n",
      "Sample037 24\n",
      "Sample041 24\n",
      "Sample038 24\n",
      "Sample033 24\n",
      "Sample028 24\n",
      "Sample025 24\n",
      "Sample029 24\n",
      "Sample026 24\n",
      "Sample032 24\n",
      "Sample024 24\n",
      "Sample027 24\n",
      "Sample023 24\n",
      "Sample031 24\n",
      "Sample030 24\n",
      "Sample013 24\n",
      "Sample020 24\n",
      "Sample017 24\n",
      "Sample015 24\n",
      "Sample014 24\n",
      "Sample016 24\n",
      "Sample021 24\n",
      "Sample022 24\n",
      "Sample019 24\n",
      "Sample018 24\n",
      "Sample011 24\n",
      "Sample007 24\n",
      "Sample008 24\n",
      "Sample004 24\n",
      "Sample012 24\n",
      "Sample010 24\n",
      "Sample009 24\n",
      "Sample003 24\n",
      "Sample006 24\n",
      "Sample005 24\n",
      "Sample001 24\n",
      "Sample002 24\n"
     ]
    }
   ],
   "source": [
    "print(\"Training Data\")\n",
    "for f in folders:\n",
    "    path = \"train/\"+f\n",
    "    print(f+ \" \"+str(len(os.listdir(path))))\n",
    "   \n",
    "\n",
    "print(\"\\n Validation Data\") \n",
    "for f in folders:\n",
    "    path = \"val_images/\"+f\n",
    "    print(f+ \" \"+str(len(os.listdir(path))))\n",
    "    "
   ]
  },
  {
   "cell_type": "code",
   "execution_count": 17,
   "metadata": {
    "id": "0ZhuzwIsWE0S"
   },
   "outputs": [],
   "source": []
  },
  {
   "cell_type": "code",
   "execution_count": 18,
   "metadata": {
    "colab": {
     "base_uri": "https://localhost:8080/"
    },
    "id": "kGbU9Y-vWE0T",
    "outputId": "72c356ec-3721-40bd-84d2-5c203e084fb2"
   },
   "outputs": [
    {
     "name": "stdout",
     "output_type": "stream",
     "text": [
      "Found 992 images belonging to 62 classes.\n",
      "Found 1488 images belonging to 62 classes.\n"
     ]
    }
   ],
   "source": [
    "from keras.preprocessing.image import ImageDataGenerator\n",
    "\n",
    "\n",
    "train_gen = ImageDataGenerator(rescale=1.0/2)\n",
    "val_gen = ImageDataGenerator(rescale=1.0/2)\n",
    "\n",
    "train_generator = train_gen.flow_from_directory(\n",
    "    \"train/\",\n",
    "    target_size = (224,224),\n",
    "    batch_size = 32,\n",
    "    class_mode = 'categorical',\n",
    "    color_mode='grayscale'\n",
    ")\n",
    "\n",
    "val_generator = val_gen.flow_from_directory(\n",
    "    \"val_images/\",\n",
    "    target_size = (224,224),\n",
    "    batch_size = 32,\n",
    "    class_mode = 'categorical',\n",
    "    color_mode='grayscale'\n",
    ")\n"
   ]
  },
  {
   "cell_type": "code",
   "execution_count": 19,
   "metadata": {
    "colab": {
     "base_uri": "https://localhost:8080/"
    },
    "id": "wHPTqDgDWE0U",
    "outputId": "b5638123-e5d1-450f-be4f-87c326b0e596"
   },
   "outputs": [
    {
     "name": "stdout",
     "output_type": "stream",
     "text": [
      "(32, 224, 224, 1)\n",
      "(32, 62)\n"
     ]
    }
   ],
   "source": [
    "for x,y in train_generator:\n",
    "    print(x.shape)\n",
    "    print(y.shape)\n",
    "    break"
   ]
  },
  {
   "cell_type": "code",
   "execution_count": 19,
   "metadata": {
    "id": "lGs-_Vx5WE0V"
   },
   "outputs": [],
   "source": []
  },
  {
   "cell_type": "code",
   "execution_count": 22,
   "metadata": {
    "colab": {
     "base_uri": "https://localhost:8080/"
    },
    "id": "ltbGT3rIel1l",
    "outputId": "4a8ccc98-52dc-4b62-eb46-ffd92a82d3ea"
   },
   "outputs": [
    {
     "name": "stdout",
     "output_type": "stream",
     "text": [
      "Model: \"sequential_1\"\n",
      "_________________________________________________________________\n",
      "Layer (type)                 Output Shape              Param #   \n",
      "=================================================================\n",
      "conv2d_4 (Conv2D)            (None, 222, 222, 32)      320       \n",
      "_________________________________________________________________\n",
      "max_pooling2d_4 (MaxPooling2 (None, 111, 111, 32)      0         \n",
      "_________________________________________________________________\n",
      "conv2d_5 (Conv2D)            (None, 109, 109, 64)      18496     \n",
      "_________________________________________________________________\n",
      "max_pooling2d_5 (MaxPooling2 (None, 54, 54, 64)        0         \n",
      "_________________________________________________________________\n",
      "conv2d_6 (Conv2D)            (None, 52, 52, 128)       73856     \n",
      "_________________________________________________________________\n",
      "max_pooling2d_6 (MaxPooling2 (None, 26, 26, 128)       0         \n",
      "_________________________________________________________________\n",
      "global_average_pooling2d_1 ( (None, 128)               0         \n",
      "_________________________________________________________________\n",
      "flatten_1 (Flatten)          (None, 128)               0         \n",
      "_________________________________________________________________\n",
      "dense_3 (Dense)              (None, 128)               16512     \n",
      "_________________________________________________________________\n",
      "dense_4 (Dense)              (None, 62)                7998      \n",
      "=================================================================\n",
      "Total params: 117,182\n",
      "Trainable params: 117,182\n",
      "Non-trainable params: 0\n",
      "_________________________________________________________________\n"
     ]
    }
   ],
   "source": [
    "# Build a Model \n",
    "#New\n",
    "model = Sequential()\n",
    "model.add(Conv2D(32,(3,3),activation='relu',input_shape=(224,224,1)))\n",
    "model.add(MaxPool2D((2,2)))\n",
    "\n",
    "model.add(Conv2D(64,(3,3),activation='relu'))\n",
    "model.add(MaxPool2D((2,2)))\n",
    "\n",
    "#model.add(Dropout(0.25))\n",
    "\n",
    "model.add(Conv2D(128,(3,3),activation='relu'))\n",
    "model.add(MaxPool2D((2,2)))\n",
    "\n",
    "\n",
    "\n",
    "\n",
    "\n",
    "model.add(GlobalAveragePooling2D())\n",
    "\n",
    "\n",
    "\n",
    "model.add(Flatten())\n",
    "\n",
    "model.add(Dense(128,activation='relu'))\n",
    "#model.add(Dropout(0.5))\n",
    "#model.add(Dense(64,activation='relu'))\n",
    "model.add(Dense(62,activation='softmax'))\n",
    "model.summary()"
   ]
  },
  {
   "cell_type": "code",
   "execution_count": null,
   "metadata": {
    "colab": {
     "base_uri": "https://localhost:8080/"
    },
    "id": "Sx5fsDZKWE0p",
    "outputId": "a6866b21-f250-4e0c-bdb8-29fc19131ff9"
   },
   "outputs": [
    {
     "name": "stdout",
     "output_type": "stream",
     "text": [
      "Epoch 1/100\n",
      "10/10 [==============================] - 12s 832ms/step - loss: 9.2958 - accuracy: 0.0119 - val_loss: 4.5090 - val_accuracy: 0.0188\n",
      "Epoch 2/100\n",
      "10/10 [==============================] - 7s 743ms/step - loss: 4.3247 - accuracy: 0.0244 - val_loss: 4.1687 - val_accuracy: 0.0063\n",
      "Epoch 3/100\n",
      "10/10 [==============================] - 7s 745ms/step - loss: 4.1521 - accuracy: 0.0255 - val_loss: 4.1413 - val_accuracy: 0.0125\n",
      "Epoch 4/100\n",
      "10/10 [==============================] - 7s 762ms/step - loss: 4.1382 - accuracy: 0.0129 - val_loss: 4.1279 - val_accuracy: 0.0125\n",
      "Epoch 5/100\n",
      "10/10 [==============================] - 7s 746ms/step - loss: 4.1171 - accuracy: 0.0187 - val_loss: 4.1557 - val_accuracy: 0.0000e+00\n",
      "Epoch 6/100\n",
      "10/10 [==============================] - 7s 749ms/step - loss: 4.1275 - accuracy: 0.0186 - val_loss: 4.1272 - val_accuracy: 0.0125\n",
      "Epoch 7/100\n",
      "10/10 [==============================] - 7s 753ms/step - loss: 4.1199 - accuracy: 0.0110 - val_loss: 4.1176 - val_accuracy: 0.0125\n",
      "Epoch 8/100\n",
      "10/10 [==============================] - 7s 756ms/step - loss: 4.1317 - accuracy: 0.0155 - val_loss: 4.1264 - val_accuracy: 0.0063\n",
      "Epoch 9/100\n",
      "10/10 [==============================] - 7s 760ms/step - loss: 4.1084 - accuracy: 0.0172 - val_loss: 4.1252 - val_accuracy: 0.0188\n",
      "Epoch 10/100\n",
      "10/10 [==============================] - 7s 759ms/step - loss: 4.1152 - accuracy: 0.0605 - val_loss: 4.1178 - val_accuracy: 0.0250\n",
      "Epoch 11/100\n",
      "10/10 [==============================] - 7s 752ms/step - loss: 4.0775 - accuracy: 0.0479 - val_loss: 4.0874 - val_accuracy: 0.0250\n",
      "Epoch 12/100\n",
      "10/10 [==============================] - 7s 750ms/step - loss: 4.0881 - accuracy: 0.0366 - val_loss: 4.0873 - val_accuracy: 0.0312\n",
      "Epoch 13/100\n",
      "10/10 [==============================] - 7s 750ms/step - loss: 4.0932 - accuracy: 0.0242 - val_loss: 4.0622 - val_accuracy: 0.0500\n",
      "Epoch 14/100\n",
      "10/10 [==============================] - 7s 744ms/step - loss: 4.0744 - accuracy: 0.0198 - val_loss: 4.0562 - val_accuracy: 0.0375\n",
      "Epoch 15/100\n",
      "10/10 [==============================] - 7s 748ms/step - loss: 4.0382 - accuracy: 0.0407 - val_loss: 4.0445 - val_accuracy: 0.0250\n",
      "Epoch 16/100\n",
      "10/10 [==============================] - 7s 746ms/step - loss: 3.9852 - accuracy: 0.0281 - val_loss: 3.9978 - val_accuracy: 0.0312\n",
      "Epoch 17/100\n",
      "10/10 [==============================] - 7s 761ms/step - loss: 3.9505 - accuracy: 0.0374 - val_loss: 3.9452 - val_accuracy: 0.0625\n",
      "Epoch 18/100\n",
      "10/10 [==============================] - 7s 757ms/step - loss: 3.8535 - accuracy: 0.0311 - val_loss: 3.8819 - val_accuracy: 0.0250\n",
      "Epoch 19/100\n",
      "10/10 [==============================] - 7s 751ms/step - loss: 3.8502 - accuracy: 0.0444 - val_loss: 3.7848 - val_accuracy: 0.0500\n",
      "Epoch 20/100\n",
      "10/10 [==============================] - 7s 754ms/step - loss: 3.7793 - accuracy: 0.0478 - val_loss: 3.7288 - val_accuracy: 0.0688\n",
      "Epoch 21/100\n",
      "10/10 [==============================] - 7s 757ms/step - loss: 3.6215 - accuracy: 0.1263 - val_loss: 3.6743 - val_accuracy: 0.1063\n",
      "Epoch 22/100\n",
      "10/10 [==============================] - 7s 754ms/step - loss: 3.5834 - accuracy: 0.0909 - val_loss: 3.6278 - val_accuracy: 0.1000\n",
      "Epoch 23/100\n",
      "10/10 [==============================] - 7s 740ms/step - loss: 3.5511 - accuracy: 0.1118 - val_loss: 3.5022 - val_accuracy: 0.1437\n",
      "Epoch 24/100\n",
      "10/10 [==============================] - 7s 754ms/step - loss: 3.4831 - accuracy: 0.1152 - val_loss: 3.5457 - val_accuracy: 0.1250\n",
      "Epoch 25/100\n",
      "10/10 [==============================] - 7s 752ms/step - loss: 3.3653 - accuracy: 0.0963 - val_loss: 3.4077 - val_accuracy: 0.0812\n",
      "Epoch 26/100\n",
      "10/10 [==============================] - 7s 746ms/step - loss: 3.3060 - accuracy: 0.1250 - val_loss: 3.4705 - val_accuracy: 0.0812\n",
      "Epoch 27/100\n",
      "10/10 [==============================] - 7s 741ms/step - loss: 3.1358 - accuracy: 0.1352 - val_loss: 3.1764 - val_accuracy: 0.1375\n",
      "Epoch 28/100\n",
      "10/10 [==============================] - 7s 741ms/step - loss: 3.0729 - accuracy: 0.2231 - val_loss: 3.1520 - val_accuracy: 0.1437\n",
      "Epoch 29/100\n",
      "10/10 [==============================] - 7s 742ms/step - loss: 2.8588 - accuracy: 0.1898 - val_loss: 3.2108 - val_accuracy: 0.1500\n",
      "Epoch 30/100\n",
      "10/10 [==============================] - 7s 754ms/step - loss: 3.0396 - accuracy: 0.1659 - val_loss: 3.0587 - val_accuracy: 0.1312\n",
      "Epoch 31/100\n",
      "10/10 [==============================] - 7s 756ms/step - loss: 2.9748 - accuracy: 0.1930 - val_loss: 3.2393 - val_accuracy: 0.1937\n",
      "Epoch 32/100\n",
      "10/10 [==============================] - 7s 751ms/step - loss: 2.9972 - accuracy: 0.2036 - val_loss: 2.9323 - val_accuracy: 0.1813\n",
      "Epoch 33/100\n",
      " 7/10 [====================>.........] - ETA: 1s - loss: 2.7749 - accuracy: 0.2374"
     ]
    }
   ],
   "source": [
    "from keras.callbacks import EarlyStopping, ModelCheckpoint\n",
    "#es = EarlyStopping(monitor='val_loss', mode='min', verbose=1, patience=20, min_delta=0.00001) \n",
    "#mc = ModelCheckpoint('best_model.hdf5', monitor='accuracy', verbose=1, save_best_only=True, mode='max')\n",
    "history = model.fit(\n",
    "    train_generator,\n",
    "    epochs = 100,\n",
    "    steps_per_epoch = 10,\n",
    "    validation_data = val_generator,\n",
    "    validation_steps = 5,\n",
    "    #callbacks=[es,mc]\n",
    ")"
   ]
  },
  {
   "cell_type": "code",
   "execution_count": null,
   "metadata": {
    "id": "N4py8alHWE0q"
   },
   "outputs": [],
   "source": [
    "acc = history.history['accuracy']\n",
    "val_acc = history.history['val_accuracy']\n",
    "loss = history.history['loss']\n",
    "val_loss= history.history['val_loss']\n"
   ]
  },
  {
   "cell_type": "code",
   "execution_count": null,
   "metadata": {
    "id": "bBp7XoquWE0r"
   },
   "outputs": [],
   "source": [
    "import matplotlib.pyplot as plt\n",
    "plt.plot(acc,label=\"accuracy\")\n",
    "plt.plot(val_acc,label=\"val acc\")\n",
    "#plt.plot(loss,label='loss')\n",
    "#plt.plot(val_loss,label='val loss')\n",
    "plt.legend()\n",
    "plt.show()"
   ]
  },
  {
   "cell_type": "code",
   "execution_count": null,
   "metadata": {
    "id": "JwiyztJDcRbS"
   },
   "outputs": [],
   "source": []
  },
  {
   "cell_type": "code",
   "execution_count": null,
   "metadata": {
    "id": "qOSkdeg68wqt"
   },
   "outputs": [],
   "source": []
  }
 ],
 "metadata": {
  "accelerator": "GPU",
  "colab": {
   "name": "Nishit_CNN_Model.ipynb",
   "provenance": []
  },
  "kernelspec": {
   "display_name": "Python 3",
   "language": "python",
   "name": "python3"
  },
  "language_info": {
   "codemirror_mode": {
    "name": "ipython",
    "version": 3
   },
   "file_extension": ".py",
   "mimetype": "text/x-python",
   "name": "python",
   "nbconvert_exporter": "python",
   "pygments_lexer": "ipython3",
   "version": "3.7.4"
  }
 },
 "nbformat": 4,
 "nbformat_minor": 1
}
